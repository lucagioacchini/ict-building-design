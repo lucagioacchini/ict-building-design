{
 "cells": [
  {
   "cell_type": "markdown",
   "metadata": {},
   "source": [
    "# Step II: Energy dynamics simulation\n",
    "After having fixed the optimum insulation thickness value, with Besos the .idf file is edited by setting the found value, then with Eppy, different simulations are performed to obtained different annual temperature and HVAC consumption profiles."
   ]
  },
  {
   "cell_type": "code",
   "execution_count": 1,
   "metadata": {},
   "outputs": [
    {
     "name": "stderr",
     "output_type": "stream",
     "text": [
      "/usr/local/lib/python3.7/dist-packages/besos/parameters.py:400: UserWarning: wwr is intended to be used with RangeParameter. Your value_descriptor is CategoryParameter(options=[0.15, 0.5, 0.9])\n",
      "  warnings.warn(f'wwr is intended to be used with RangeParameter. Your value_descriptor is {value_descriptor}')\n"
     ]
    },
    {
     "name": "stdout",
     "output_type": "stream",
     "text": [
      "Performing evaluation...\n"
     ]
    },
    {
     "data": {
      "text/html": [
       "<div>\n",
       "<style scoped>\n",
       "    .dataframe tbody tr th:only-of-type {\n",
       "        vertical-align: middle;\n",
       "    }\n",
       "\n",
       "    .dataframe tbody tr th {\n",
       "        vertical-align: top;\n",
       "    }\n",
       "\n",
       "    .dataframe thead th {\n",
       "        text-align: right;\n",
       "    }\n",
       "</style>\n",
       "<table border=\"1\" class=\"dataframe\">\n",
       "  <thead>\n",
       "    <tr style=\"text-align: right;\">\n",
       "      <th></th>\n",
       "      <th>Insulation Thickness</th>\n",
       "      <th>Window to Wall Ratio</th>\n",
       "      <th>Glazing1</th>\n",
       "      <th>Glazing2</th>\n",
       "      <th>Electricity:Facility</th>\n",
       "    </tr>\n",
       "  </thead>\n",
       "  <tbody>\n",
       "    <tr>\n",
       "      <th>0</th>\n",
       "      <td>0.25</td>\n",
       "      <td>0.9</td>\n",
       "      <td>2.85</td>\n",
       "      <td>2.85</td>\n",
       "      <td>3.056227e+10</td>\n",
       "    </tr>\n",
       "  </tbody>\n",
       "</table>\n",
       "</div>"
      ],
      "text/plain": [
       "   Insulation Thickness  Window to Wall Ratio  Glazing1  Glazing2  \\\n",
       "0                  0.25                   0.9      2.85      2.85   \n",
       "\n",
       "   Electricity:Facility  \n",
       "0          3.056227e+10  "
      ]
     },
     "execution_count": 1,
     "metadata": {},
     "output_type": "execute_result"
    }
   ],
   "source": [
    "import matplotlib.pyplot as plt\n",
    "from seaborn import heatmap\n",
    "from seaborn import pairplot\n",
    "from besos import eppy_funcs as ef\n",
    "from besos import sampling\n",
    "from besos.evaluator import EvaluatorEP\n",
    "from besos.parameters import RangeParameter, FieldSelector, FilterSelector, Parameter, expand_plist, wwr, CategoryParameter, GenericSelector\n",
    "from besos.problem import EPProblem\n",
    "import pandas as pd\n",
    "from eppy import modeleditor\n",
    "from eppy.modeleditor import IDF\n",
    "import os\n",
    "\n",
    "MAT = .25\n",
    "WWR = .9\n",
    "GL = 2.85\n",
    "\n",
    "iddfile='/usr/local/EnergyPlus-9-0-1/Energy+.idd'\n",
    "weather='../model/epw/RUS_Moscow.276120_IWEC.epw'\n",
    "\n",
    "# Load the building from the IDF file\n",
    "building = ef.get_building(f'../model/idf/9.0/model_2_1.idf')\n",
    "\n",
    "# Define the problem\n",
    "insulation = FieldSelector(\n",
    "    class_name='Material', \n",
    "    object_name='Rock wool - unbonded_01', \n",
    "    field_name='Thickness'\n",
    ")\n",
    "glazing1 = FieldSelector(\n",
    "    class_name='WindowMaterial:Glazing',\n",
    "    object_name='2',\n",
    "    field_name='Thickness'\n",
    ")\n",
    "glazing2 = FieldSelector(\n",
    "    class_name='WindowMaterial:Glazing',\n",
    "    object_name='40',\n",
    "    field_name='Thickness'\n",
    ")\n",
    "#==========================================\n",
    "#PARAMETERS\n",
    "#==========================================\n",
    "parameters = [\n",
    "    Parameter(\n",
    "        selector=insulation,\n",
    "        #value_descriptor = RangeParameter(0.03,0.36),\n",
    "        value_descriptor = RangeParameter(0.0,0.4),\n",
    "        name='Insulation Thickness'\n",
    "    ),\n",
    "    wwr(CategoryParameter(options=[.15,.5,.9])),\n",
    "    Parameter(\n",
    "        selector=glazing1,\n",
    "        value_descriptor = RangeParameter(.7, 5),\n",
    "        name='Glazing1'\n",
    "    ),\n",
    "    Parameter(\n",
    "        selector=glazing2,\n",
    "        value_descriptor = RangeParameter(.7, 5),\n",
    "        name='Glazing2'\n",
    "    )\n",
    "]\n",
    "ef.wwr_all(building, WWR)\n",
    "#================================\n",
    "#OBJECTIVES AND PROBLEM\n",
    "#================================\n",
    "# Define the problem's objectives\n",
    "objectives = ['Electricity:Facility']\n",
    "\n",
    "problem=EPProblem(parameters, objectives)\n",
    "\n",
    "# Set the evaluator\n",
    "evaluator = EvaluatorEP(\n",
    "    problem, \n",
    "    building,\n",
    "    weather,\n",
    "    out_dir='outputdir', \n",
    "    err_dir='errdir',\n",
    ")\n",
    "\n",
    "samples = pd.DataFrame({\n",
    "    'Insulation Thickness':[MAT],\n",
    "    'Window to Wall Ratio':[WWR],\n",
    "    'Glazing1':[GL],\n",
    "    'Glazing2':[GL]\n",
    "})\n",
    "\n",
    "print('Performing evaluation...')\n",
    "evaluator.df_apply(samples, keep_input=True)\n"
   ]
  },
  {
   "cell_type": "code",
   "execution_count": 2,
   "metadata": {},
   "outputs": [
    {
     "name": "stdout",
     "output_type": "stream",
     "text": [
      "Running e+ simulation...\n",
      "\n",
      "/usr/local/EnergyPlus-9-0-1/energyplus --weather /home/luca/Codes/ICT4BD/model/epw/RUS_Moscow.276120_IWEC.epw --output-directory /home/luca/Codes/ICT4BD/step2 --idd /usr/local/lib/python3.7/dist-packages/Data/example_idd.idd --readvars /home/luca/Codes/ICT4BD/step2/in.idf\n",
      "\n"
     ]
    },
    {
     "data": {
      "text/plain": [
       "0"
      ]
     },
     "execution_count": 2,
     "metadata": {},
     "output_type": "execute_result"
    }
   ],
   "source": [
    "print('Running e+ simulation...')\n",
    "\n",
    "#IDF.setiddname(iddfile)\n",
    "idf = IDF(f'outputdir/BESOS_Output/in.idf',weather)\n",
    "\n",
    "idf.run(readvars=True)\n",
    "\n",
    "os.system(f'cp eplusout.csv ../data/ensig/epraw.csv')"
   ]
  },
  {
   "cell_type": "code",
   "execution_count": null,
   "metadata": {},
   "outputs": [],
   "source": []
  }
 ],
 "metadata": {
  "kernelspec": {
   "display_name": "Python 3",
   "language": "python",
   "name": "python3"
  },
  "language_info": {
   "codemirror_mode": {
    "name": "ipython",
    "version": 3
   },
   "file_extension": ".py",
   "mimetype": "text/x-python",
   "name": "python",
   "nbconvert_exporter": "python",
   "pygments_lexer": "ipython3",
   "version": "3.7.3"
  }
 },
 "nbformat": 4,
 "nbformat_minor": 2
}
