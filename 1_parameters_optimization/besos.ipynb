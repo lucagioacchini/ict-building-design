{
 "cells": [
  {
   "cell_type": "markdown",
   "metadata": {},
   "source": [
    "# Step I: Parametric Analysis\n",
    "This notebook performs a parametric analysis of a building design using EnergyPlus and BESOS helper functions.  \n",
    "\n",
    "### Various Imports\n",
    "The .idf model is load, then three different Windows-to-Wall Ratio (WWR) ar set (15%, 50% and 90%). \n",
    "The thickness of the isolation material is increased from 0.0 cm up to 0.35 cm.\n",
    "The output dataframe is saved into the `../data/` directory to be analyzed and plotted from a separate python script."
   ]
  },
  {
   "cell_type": "code",
   "execution_count": 1,
   "metadata": {
    "scrolled": false
   },
   "outputs": [
    {
     "name": "stdout",
     "output_type": "stream",
     "text": [
      "Processing modelEon...\n"
     ]
    },
    {
     "name": "stderr",
     "output_type": "stream",
     "text": [
      "/usr/local/lib/python3.7/dist-packages/besos/parameters.py:400: UserWarning: wwr is intended to be used with RangeParameter. Your value_descriptor is CategoryParameter(options=[0.15, 0.5, 0.9])\n",
      "  warnings.warn(f'wwr is intended to be used with RangeParameter. Your value_descriptor is {value_descriptor}')\n"
     ]
    },
    {
     "name": "stdout",
     "output_type": "stream",
     "text": [
      "Performing evaluation...\n",
      "File Saved.\n",
      "Processing modelEoff...\n"
     ]
    },
    {
     "name": "stderr",
     "output_type": "stream",
     "text": [
      "/usr/local/lib/python3.7/dist-packages/besos/parameters.py:400: UserWarning: wwr is intended to be used with RangeParameter. Your value_descriptor is CategoryParameter(options=[0.15, 0.5, 0.9])\n",
      "  warnings.warn(f'wwr is intended to be used with RangeParameter. Your value_descriptor is {value_descriptor}')\n"
     ]
    },
    {
     "name": "stdout",
     "output_type": "stream",
     "text": [
      "Performing evaluation...\n",
      "File Saved.\n",
      "Processing modelNoff...\n"
     ]
    },
    {
     "name": "stderr",
     "output_type": "stream",
     "text": [
      "/usr/local/lib/python3.7/dist-packages/besos/parameters.py:400: UserWarning: wwr is intended to be used with RangeParameter. Your value_descriptor is CategoryParameter(options=[0.15, 0.5, 0.9])\n",
      "  warnings.warn(f'wwr is intended to be used with RangeParameter. Your value_descriptor is {value_descriptor}')\n"
     ]
    },
    {
     "name": "stdout",
     "output_type": "stream",
     "text": [
      "Performing evaluation...\n",
      "File Saved.\n",
      "Processing modelNon...\n"
     ]
    },
    {
     "name": "stderr",
     "output_type": "stream",
     "text": [
      "/usr/local/lib/python3.7/dist-packages/besos/parameters.py:400: UserWarning: wwr is intended to be used with RangeParameter. Your value_descriptor is CategoryParameter(options=[0.15, 0.5, 0.9])\n",
      "  warnings.warn(f'wwr is intended to be used with RangeParameter. Your value_descriptor is {value_descriptor}')\n"
     ]
    },
    {
     "name": "stdout",
     "output_type": "stream",
     "text": [
      "Performing evaluation...\n",
      "File Saved.\n"
     ]
    }
   ],
   "source": [
    "import matplotlib.pyplot as plt\n",
    "from seaborn import heatmap\n",
    "from seaborn import pairplot\n",
    "from besos import eppy_funcs as ef\n",
    "from besos import sampling\n",
    "from besos.evaluator import EvaluatorEP\n",
    "from besos.parameters import RangeParameter, FieldSelector, FilterSelector, Parameter, expand_plist, wwr, CategoryParameter, GenericSelector\n",
    "from besos.problem import EPProblem\n",
    "import pandas as pd\n",
    "import numpy as np\n",
    "import os\n",
    "\n",
    "pd.set_option('display.max_rows', None)\n",
    "\n",
    "for fname in os.listdir('../model/idf/9.0/'):\n",
    "    # File names management\n",
    "    name, orientation, nat_vent = fname.replace('.idf', '').split('_')\n",
    "    title = name\n",
    "    if orientation == '1':\n",
    "        title += 'N'\n",
    "    elif orientation == '2':\n",
    "        title += 'E'\n",
    "    if nat_vent == '1':\n",
    "        title += 'on'\n",
    "    elif nat_vent == '0':\n",
    "        title += 'off'\n",
    "\n",
    "    print(f'Processing {title}...')\n",
    "    \n",
    "    # Load the building from the IDF file\n",
    "    building = ef.get_building(f'../model/idf/9.0/{fname}')\n",
    "\n",
    "    # Define the problem\n",
    "    insulation = FieldSelector(\n",
    "        class_name='Material', \n",
    "        object_name='Rock wool - unbonded_01', \n",
    "        field_name='Thickness'\n",
    "    )\n",
    "    glazing1 = FieldSelector(\n",
    "        class_name='WindowMaterial:Glazing',\n",
    "        object_name='2',\n",
    "        field_name='Thickness'\n",
    "    )\n",
    "    glazing2 = FieldSelector(\n",
    "        class_name='WindowMaterial:Glazing',\n",
    "        object_name='40',\n",
    "        field_name='Thickness'\n",
    "    )\n",
    "    \n",
    "    #==========================================\n",
    "    #PARAMETERS\n",
    "    #==========================================\n",
    "    # Insulation Thickness: from 0cm to 35cm\n",
    "    # WWR: [15%, 50%, 90%]\n",
    "    parameters = [\n",
    "        Parameter(\n",
    "            selector=insulation,\n",
    "            #value_descriptor = RangeParameter(0.03,0.36),\n",
    "            value_descriptor = RangeParameter(0.0,0.4),\n",
    "            name='Insulation Thickness'\n",
    "        ),\n",
    "        wwr(CategoryParameter(options=[.15,.5,.9])),\n",
    "        Parameter(\n",
    "            selector=glazing1,\n",
    "            value_descriptor = RangeParameter(.007, .05),\n",
    "            name='Glazing1'\n",
    "        ),\n",
    "        Parameter(\n",
    "            selector=glazing2,\n",
    "            value_descriptor = RangeParameter(.007, .05),\n",
    "            name='Glazing2'\n",
    "        )\n",
    "    ]\n",
    "\n",
    "    #================================\n",
    "    #OBJECTIVES AND PROBLEM\n",
    "    #================================\n",
    "    # Define the problem's objectives\n",
    "    objectives = [\n",
    "        'Electricity:Facility',\n",
    "        'DistrictHeating:Facility',\n",
    "        'DistrictCooling:Facility'\n",
    "    ]\n",
    "\n",
    "    problem=EPProblem(parameters, objectives)\n",
    "\n",
    "    \n",
    "    samples = pd.DataFrame({\n",
    "        'Insulation Thickness':[],\n",
    "        'Window to Wall Ratio':[]\n",
    "    })\n",
    "\n",
    "    t_range = []\n",
    "    w_range = []\n",
    "    g1_range = []\n",
    "    g2_range = []\n",
    "    \n",
    "    for i in np.linspace(.05, .35, 7):\n",
    "        for j in [.15, .5, .9]:\n",
    "            for k in np.linspace(.007, .05, 3):\n",
    "                t_range.append(i)\n",
    "                w_range.append(j)\n",
    "                g1_range.append(k)\n",
    "                g2_range.append(k)\n",
    "    \n",
    "    samples['Insulation Thickness'] = t_range\n",
    "    samples['Window to Wall Ratio'] = w_range\n",
    "    samples['Glazing1'] = g1_range\n",
    "    samples['Glazing2'] = g2_range\n",
    "    \n",
    "    # Set the evaluator\n",
    "    evaluator = EvaluatorEP(\n",
    "        problem, \n",
    "        building,\n",
    "        '../model/epw/RUS_Moscow.276120_IWEC.epw',\n",
    "        out_dir='outputdir', \n",
    "        err_dir='errdir',\n",
    "    )\n",
    "\n",
    "    print('Performing evaluation...')\n",
    "    outputs = evaluator.df_apply(samples, keep_input=True)\n",
    "    # Outputs in kWh are obtained by output/3.6e6\n",
    "\n",
    "    # Set the objectives in kWh\n",
    "    outputs['Electricity:Facility']/=3.6e6\n",
    "    outputs['DistrictHeating:Facility']/=3.6e6\n",
    "    outputs['DistrictCooling:Facility']/=3.6e6\n",
    "    outputs['TotalConsumption']=outputs['DistrictHeating:Facility']+outputs['DistrictCooling:Facility']\n",
    "    \n",
    "    outputs.to_csv(f'../data/eval/{title}.csv')\n",
    "    print('File Saved.')"
   ]
  },
  {
   "cell_type": "code",
   "execution_count": null,
   "metadata": {},
   "outputs": [],
   "source": []
  },
  {
   "cell_type": "code",
   "execution_count": null,
   "metadata": {},
   "outputs": [],
   "source": []
  }
 ],
 "metadata": {
  "kernelspec": {
   "display_name": "Python 3",
   "language": "python",
   "name": "python3"
  },
  "language_info": {
   "codemirror_mode": {
    "name": "ipython",
    "version": 3
   },
   "file_extension": ".py",
   "mimetype": "text/x-python",
   "name": "python",
   "nbconvert_exporter": "python",
   "pygments_lexer": "ipython3",
   "version": "3.7.3"
  }
 },
 "nbformat": 4,
 "nbformat_minor": 2
}
