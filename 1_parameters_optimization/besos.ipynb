{
 "cells": [
  {
   "cell_type": "markdown",
   "metadata": {},
   "source": [
    "# Step I: Parametric Analysis\n",
    "This notebook performs a parametric analysis of a building design using EnergyPlus and BESOS helper functions.  "
   ]
  },
  {
   "cell_type": "code",
   "execution_count": 3,
   "metadata": {},
   "outputs": [],
   "source": [
    "def argThick(window_uval):\n",
    "    window_thick = .003\n",
    "    window_lambda = .9\n",
    "    arg_lambda = .016\n",
    "    arg_thick = (1/window_uval - 2*window_thick/window_lambda)*arg_lambda\n",
    "    \n",
    "    return arg_thick"
   ]
  },
  {
   "cell_type": "markdown",
   "metadata": {},
   "source": [
    "### WWR, Insulation Thickness and Argon (Ar) filled area"
   ]
  },
  {
   "cell_type": "code",
   "execution_count": 7,
   "metadata": {
    "scrolled": false
   },
   "outputs": [
    {
     "name": "stdout",
     "output_type": "stream",
     "text": [
      "Processing modelEon...\n"
     ]
    },
    {
     "name": "stderr",
     "output_type": "stream",
     "text": [
      "/usr/local/lib/python3.7/dist-packages/besos/parameters.py:400: UserWarning: wwr is intended to be used with RangeParameter. Your value_descriptor is CategoryParameter(options=[0.15, 0.5, 0.9])\n",
      "  warnings.warn(f'wwr is intended to be used with RangeParameter. Your value_descriptor is {value_descriptor}')\n"
     ]
    },
    {
     "name": "stdout",
     "output_type": "stream",
     "text": [
      "Performing evaluation...\n",
      "File Saved.\n",
      "Processing modelEoff...\n"
     ]
    },
    {
     "name": "stderr",
     "output_type": "stream",
     "text": [
      "/usr/local/lib/python3.7/dist-packages/besos/parameters.py:400: UserWarning: wwr is intended to be used with RangeParameter. Your value_descriptor is CategoryParameter(options=[0.15, 0.5, 0.9])\n",
      "  warnings.warn(f'wwr is intended to be used with RangeParameter. Your value_descriptor is {value_descriptor}')\n"
     ]
    },
    {
     "name": "stdout",
     "output_type": "stream",
     "text": [
      "Performing evaluation...\n",
      "File Saved.\n",
      "Processing modelNoff...\n"
     ]
    },
    {
     "name": "stderr",
     "output_type": "stream",
     "text": [
      "/usr/local/lib/python3.7/dist-packages/besos/parameters.py:400: UserWarning: wwr is intended to be used with RangeParameter. Your value_descriptor is CategoryParameter(options=[0.15, 0.5, 0.9])\n",
      "  warnings.warn(f'wwr is intended to be used with RangeParameter. Your value_descriptor is {value_descriptor}')\n"
     ]
    },
    {
     "name": "stdout",
     "output_type": "stream",
     "text": [
      "Performing evaluation...\n",
      "File Saved.\n",
      "Processing modelNon...\n"
     ]
    },
    {
     "name": "stderr",
     "output_type": "stream",
     "text": [
      "/usr/local/lib/python3.7/dist-packages/besos/parameters.py:400: UserWarning: wwr is intended to be used with RangeParameter. Your value_descriptor is CategoryParameter(options=[0.15, 0.5, 0.9])\n",
      "  warnings.warn(f'wwr is intended to be used with RangeParameter. Your value_descriptor is {value_descriptor}')\n"
     ]
    },
    {
     "name": "stdout",
     "output_type": "stream",
     "text": [
      "Performing evaluation...\n",
      "File Saved.\n"
     ]
    }
   ],
   "source": [
    "import matplotlib.pyplot as plt\n",
    "from seaborn import heatmap\n",
    "from seaborn import pairplot\n",
    "from besos import eppy_funcs as ef\n",
    "from besos import sampling\n",
    "from besos.evaluator import EvaluatorEP\n",
    "from besos.parameters import RangeParameter, FieldSelector, FilterSelector, Parameter, expand_plist, wwr, CategoryParameter, GenericSelector\n",
    "from besos.problem import EPProblem\n",
    "import pandas as pd\n",
    "import numpy as np\n",
    "import os\n",
    "\n",
    "pd.set_option('display.max_rows', None)\n",
    "\n",
    "for fname in os.listdir('../model/idf/9.0/'):\n",
    "    # File names management\n",
    "    name, orientation, nat_vent = fname.replace('.idf', '').split('_')\n",
    "    title = name\n",
    "    if orientation == '1':\n",
    "        title += 'N'\n",
    "    elif orientation == '2':\n",
    "        title += 'E'\n",
    "    if nat_vent == '1':\n",
    "        title += 'on'\n",
    "    elif nat_vent == '0':\n",
    "        title += 'off'\n",
    "\n",
    "    print(f'Processing {title}...')\n",
    "    \n",
    "    # Load the building from the IDF file\n",
    "    building = ef.get_building(f'../model/idf/9.0/{fname}')\n",
    "    \n",
    "    # Define the problem by choosing the .idf field selectors\n",
    "    insulation = FieldSelector(\n",
    "        class_name='Material', \n",
    "        object_name='Rock wool - unbonded_01', \n",
    "        field_name='Thickness'\n",
    "    )\n",
    "    arg1 = FieldSelector(\n",
    "        class_name='WindowMaterial:Gas',\n",
    "        object_name='1004',\n",
    "        field_name='Thickness'\n",
    "    )\n",
    "    arg2 = FieldSelector(\n",
    "        class_name='WindowMaterial:Gas',\n",
    "        object_name='Half thickness 1004',\n",
    "        field_name='Thickness'\n",
    "    )\n",
    "    \n",
    "    #==========================================\n",
    "    #PARAMETERS\n",
    "    #==========================================\n",
    "    # Insulation Thickness: from 0cm to 35cm\n",
    "    # WWR: [15%, 50%, 90%]\n",
    "    parameters = [\n",
    "        Parameter(\n",
    "            selector=insulation,\n",
    "            value_descriptor = RangeParameter(0.0,0.4),\n",
    "            name='Insulation Thickness'\n",
    "        ),\n",
    "        wwr(CategoryParameter(options=[.15,.5,.9])),\n",
    "        Parameter(\n",
    "            selector=arg1,\n",
    "            value_descriptor = RangeParameter(0.0, 1),\n",
    "            name='Argon1'\n",
    "        ),\n",
    "        Parameter(\n",
    "            selector=arg2,\n",
    "            value_descriptor = RangeParameter(0.0, 1),\n",
    "            name='Argon2'\n",
    "        )\n",
    "    ]\n",
    "\n",
    "    #================================\n",
    "    #OBJECTIVES AND PROBLEM\n",
    "    #================================\n",
    "    # Define the problem's objectives\n",
    "    objectives = [\n",
    "        'Electricity:Facility',\n",
    "        'DistrictHeating:Facility',\n",
    "        'DistrictCooling:Facility'\n",
    "    ]\n",
    "\n",
    "    problem=EPProblem(parameters, objectives)\n",
    "    \n",
    "    # Specify the value ranges to evaluate\n",
    "    samples = pd.DataFrame({\n",
    "        'Insulation Thickness':[],\n",
    "        'Window to Wall Ratio':[]\n",
    "    })\n",
    "\n",
    "    t_range = []\n",
    "    w_range = []\n",
    "    g1_range = []\n",
    "    g2_range = []\n",
    "    \n",
    "    for i in np.linspace(.05, .35, 7):\n",
    "        for j in [.15, .5, .9]:\n",
    "            for k in np.linspace(.7, 5, 3):\n",
    "                t_range.append(i)\n",
    "                w_range.append(j)\n",
    "                g1_range.append(argThick(k))\n",
    "                g2_range.append(argThick(k))\n",
    "    \n",
    "    samples['Insulation Thickness'] = t_range\n",
    "    samples['Window to Wall Ratio'] = w_range\n",
    "    samples['Argon1'] = g1_range\n",
    "    samples['Argon2'] = g2_range\n",
    "    \n",
    "    # Set the evaluator\n",
    "    evaluator = EvaluatorEP(\n",
    "        problem, \n",
    "        building,\n",
    "        '../model/epw/RUS_Moscow.276120_IWEC.epw',\n",
    "        out_dir='outputdir', \n",
    "        err_dir='errdir',\n",
    "    )\n",
    "\n",
    "    print('Performing evaluation...')\n",
    "    outputs = evaluator.df_apply(samples, keep_input=True)\n",
    "    # Outputs in kWh are obtained by output/3.6e6\n",
    "\n",
    "    # Set the objectives in kWh\n",
    "    outputs['Electricity:Facility']/=3.6e6\n",
    "    outputs['DistrictHeating:Facility']/=3.6e6\n",
    "    outputs['DistrictCooling:Facility']/=3.6e6\n",
    "    outputs['TotalConsumption']=outputs['DistrictHeating:Facility']+outputs['DistrictCooling:Facility']\n",
    "    \n",
    "    outputs.to_csv(f'../data/eval/{title}.csv')\n",
    "    print('File Saved.')"
   ]
  },
  {
   "cell_type": "markdown",
   "metadata": {},
   "source": [
    "### WWR and Solar Visibility at Normal Incidence"
   ]
  },
  {
   "cell_type": "code",
   "execution_count": 8,
   "metadata": {},
   "outputs": [
    {
     "name": "stdout",
     "output_type": "stream",
     "text": [
      "Processing modelE...\n"
     ]
    },
    {
     "name": "stderr",
     "output_type": "stream",
     "text": [
      "/usr/local/lib/python3.7/dist-packages/besos/parameters.py:400: UserWarning: wwr is intended to be used with RangeParameter. Your value_descriptor is CategoryParameter(options=[0.15, 0.5, 0.9])\n",
      "  warnings.warn(f'wwr is intended to be used with RangeParameter. Your value_descriptor is {value_descriptor}')\n"
     ]
    },
    {
     "name": "stdout",
     "output_type": "stream",
     "text": [
      "Performing evaluation...\n",
      "File Saved.\n",
      "Processing modelN...\n"
     ]
    },
    {
     "name": "stderr",
     "output_type": "stream",
     "text": [
      "/usr/local/lib/python3.7/dist-packages/besos/parameters.py:400: UserWarning: wwr is intended to be used with RangeParameter. Your value_descriptor is CategoryParameter(options=[0.15, 0.5, 0.9])\n",
      "  warnings.warn(f'wwr is intended to be used with RangeParameter. Your value_descriptor is {value_descriptor}')\n"
     ]
    },
    {
     "name": "stdout",
     "output_type": "stream",
     "text": [
      "Performing evaluation...\n",
      "File Saved.\n"
     ]
    }
   ],
   "source": [
    "import matplotlib.pyplot as plt\n",
    "from seaborn import heatmap\n",
    "from seaborn import pairplot\n",
    "from besos import eppy_funcs as ef\n",
    "from besos import sampling\n",
    "from besos.evaluator import EvaluatorEP\n",
    "from besos.parameters import RangeParameter, FieldSelector, FilterSelector, Parameter, expand_plist, wwr, CategoryParameter, GenericSelector\n",
    "from besos.problem import EPProblem\n",
    "import pandas as pd\n",
    "import numpy as np\n",
    "import os\n",
    "\n",
    "pd.set_option('display.max_rows', None)\n",
    "\n",
    "for fname in os.listdir('../model/idf/9.0/'):\n",
    "    # File names management\n",
    "    name, orientation, nat_vent = fname.replace('.idf', '').split('_')\n",
    "    title = name\n",
    "    if orientation == '1':\n",
    "        title += 'N'\n",
    "    elif orientation == '2':\n",
    "        title += 'E'\n",
    "    if nat_vent == '1':\n",
    "        print(f'Processing {title}...')\n",
    "\n",
    "        # Load the building from the IDF file\n",
    "        building = ef.get_building(f'../model/idf/9.0/{fname}')\n",
    "\n",
    "        # Define the problem by choosing the .idf field selectors\n",
    "        g_fac1 = FieldSelector(\n",
    "            class_name='WindowMaterial:Glazing',\n",
    "            object_name='2',\n",
    "            field_name='Visible Transmittance at Normal Incidence'\n",
    "        )\n",
    "        g_fac2 = FieldSelector(\n",
    "            class_name='WindowMaterial:Glazing',\n",
    "            object_name='40',\n",
    "            field_name='Visible Transmittance at Normal Incidence'\n",
    "        )\n",
    "\n",
    "        #==========================================\n",
    "        #PARAMETERS\n",
    "        #==========================================\n",
    "        # Insulation Thickness: from 0cm to 35cm\n",
    "        # WWR: [15%, 50%, 90%]\n",
    "        parameters = [\n",
    "            wwr(CategoryParameter(options=[.15,.5,.9])),\n",
    "            Parameter(\n",
    "                selector=g_fac1,\n",
    "                value_descriptor = RangeParameter(0.0, .7),\n",
    "                name='Visibility1'\n",
    "            ),\n",
    "            Parameter(\n",
    "                selector=g_fac2,\n",
    "                value_descriptor = RangeParameter(0.0, .7),\n",
    "                name='Visibility2'\n",
    "            )\n",
    "        ]\n",
    "\n",
    "        #================================\n",
    "        #OBJECTIVES AND PROBLEM\n",
    "        #================================\n",
    "        # Define the problem's objectives\n",
    "        objectives = [\n",
    "            'InteriorLights:Electricity',\n",
    "        ]\n",
    "\n",
    "        problem=EPProblem(parameters, objectives)\n",
    "\n",
    "        # Specify the value ranges to evaluate\n",
    "        samples = pd.DataFrame({\n",
    "            'Window to Wall Ratio':[]\n",
    "        })\n",
    "\n",
    "        w_range = []\n",
    "        v1_range = []\n",
    "        v2_range = []\n",
    "\n",
    "        for j in [.15, .5, .9]:\n",
    "            for k in np.linspace(0.0, 0.7, 6):\n",
    "                w_range.append(j)\n",
    "                v1_range.append(k)\n",
    "                v2_range.append(k)\n",
    "\n",
    "        samples['Window to Wall Ratio'] = w_range\n",
    "        samples['Visibility1'] = v1_range\n",
    "        samples['Visibility2'] = v2_range\n",
    "\n",
    "        # Set the evaluator\n",
    "        evaluator = EvaluatorEP(\n",
    "            problem, \n",
    "            building,\n",
    "            '../model/epw/RUS_Moscow.276120_IWEC.epw',\n",
    "            out_dir='outputdir', \n",
    "            err_dir='errdir',\n",
    "        )\n",
    "        print('Performing evaluation...')\n",
    "        outputs = evaluator.df_apply(samples, keep_input=True)\n",
    "        # Outputs in kWh are obtained by output/3.6e6\n",
    "\n",
    "        # Set the objectives in kWh\n",
    "        outputs['InteriorLights:Electricity']/=3.6e6\n",
    "\n",
    "        outputs.to_csv(f'../data/eval/V_{title}.csv')\n",
    "        print('File Saved.')"
   ]
  },
  {
   "cell_type": "markdown",
   "metadata": {},
   "source": [
    "### Correlation Heatmap"
   ]
  },
  {
   "cell_type": "code",
   "execution_count": 4,
   "metadata": {},
   "outputs": [
    {
     "name": "stdout",
     "output_type": "stream",
     "text": [
      "Processing modelEon...\n"
     ]
    },
    {
     "name": "stderr",
     "output_type": "stream",
     "text": [
      "/usr/local/lib/python3.7/dist-packages/besos/parameters.py:400: UserWarning: wwr is intended to be used with RangeParameter. Your value_descriptor is CategoryParameter(options=[0.15, 0.5, 0.9])\n",
      "  warnings.warn(f'wwr is intended to be used with RangeParameter. Your value_descriptor is {value_descriptor}')\n"
     ]
    },
    {
     "name": "stdout",
     "output_type": "stream",
     "text": [
      "Performing evaluation...\n"
     ]
    }
   ],
   "source": [
    "import matplotlib.pyplot as plt\n",
    "from seaborn import heatmap\n",
    "from seaborn import pairplot\n",
    "from besos import eppy_funcs as ef\n",
    "from besos import sampling\n",
    "from besos.evaluator import EvaluatorEP\n",
    "from besos.parameters import RangeParameter, FieldSelector, FilterSelector, Parameter, expand_plist, wwr, CategoryParameter, GenericSelector\n",
    "from besos.problem import EPProblem\n",
    "import pandas as pd\n",
    "import numpy as np\n",
    "import os\n",
    "import seaborn as sns\n",
    "from matplotlib.colors import LinearSegmentedColormap\n",
    "\n",
    "pd.set_option('display.max_rows', None)\n",
    "\n",
    "for fname in os.listdir('../model/idf/9.0/'):\n",
    "    # File names management\n",
    "    name, orientation, nat_vent = fname.replace('.idf', '').split('_')\n",
    "    title = name\n",
    "    if orientation == '1':\n",
    "        title += 'N'\n",
    "    elif orientation == '2':\n",
    "        title += 'E'\n",
    "    if nat_vent == '1':\n",
    "        title += 'on'\n",
    "    elif nat_vent == '0':\n",
    "        title += 'off'\n",
    "\n",
    "    print(f'Processing {title}...')\n",
    "    \n",
    "    # Load the building from the IDF file\n",
    "    building = ef.get_building(f'../model/idf/9.0/{fname}')\n",
    "\n",
    "    # Define the problem by choosing the .idf field selectors\n",
    "    insulation = FieldSelector(\n",
    "        class_name='Material', \n",
    "        object_name='Rock wool - unbonded_01', \n",
    "        field_name='Thickness'\n",
    "    )\n",
    "    arg1 = FieldSelector(\n",
    "        class_name='WindowMaterial:Gas',\n",
    "        object_name='1004',\n",
    "        field_name='Thickness'\n",
    "    )\n",
    "    arg2 = FieldSelector(\n",
    "        class_name='WindowMaterial:Gas',\n",
    "        object_name='Half thickness 1004',\n",
    "        field_name='Thickness'\n",
    "    )\n",
    "    g_fac1 = FieldSelector(\n",
    "        class_name='WindowMaterial:Glazing',\n",
    "        object_name='2',\n",
    "        field_name='Visible Transmittance at Normal Incidence'\n",
    "    )\n",
    "    g_fac2 = FieldSelector(\n",
    "        class_name='WindowMaterial:Glazing',\n",
    "        object_name='40',\n",
    "        field_name='Visible Transmittance at Normal Incidence'\n",
    "    )\n",
    "    \n",
    "    \n",
    "    #==========================================\n",
    "    #PARAMETERS\n",
    "    #==========================================\n",
    "    # Insulation Thickness: from 0cm to 35cm\n",
    "    # WWR: [15%, 50%, 90%]\n",
    "    parameters = [\n",
    "        Parameter(\n",
    "            selector=insulation,\n",
    "            #value_descriptor = RangeParameter(0.03,0.36),\n",
    "            value_descriptor = RangeParameter(0.0,0.4),\n",
    "            name='Insulation Thickness'\n",
    "        ),\n",
    "        wwr(CategoryParameter(options=[.15,.5,.9])),\n",
    "        Parameter(\n",
    "            selector=arg1,\n",
    "            value_descriptor = RangeParameter(.0, 1.0),\n",
    "            name='Argon1'\n",
    "        ),\n",
    "        Parameter(\n",
    "            selector=arg2,\n",
    "            value_descriptor = RangeParameter(.0, 1.0),\n",
    "            name='Argon2'\n",
    "        ),\n",
    "        Parameter(\n",
    "            selector=g_fac1,\n",
    "            value_descriptor = RangeParameter(0.0, .7),\n",
    "            name='Visibility1'\n",
    "        ),\n",
    "        Parameter(\n",
    "            selector=g_fac2,\n",
    "            value_descriptor = RangeParameter(0.0, .7),\n",
    "            name='Visibility2'\n",
    "        )\n",
    "    ]\n",
    "\n",
    "    #================================\n",
    "    #OBJECTIVES AND PROBLEM\n",
    "    #================================\n",
    "    # Define the problem's objectives\n",
    "    objectives = [\n",
    "        'InteriorLights:Electricity',\n",
    "        'DistrictHeating:Facility',\n",
    "        'DistrictCooling:Facility'\n",
    "    ]\n",
    "\n",
    "    problem=EPProblem(parameters, objectives)\n",
    "\n",
    "    # Specify the value ranges to evaluate\n",
    "    samples = pd.DataFrame({\n",
    "        'Insulation Thickness':[],\n",
    "        'Window to Wall Ratio':[]\n",
    "    })\n",
    "\n",
    "    t_range = []\n",
    "    w_range = []\n",
    "    g1_range = []\n",
    "    g2_range = []\n",
    "    v1_range = []\n",
    "    v2_range = []\n",
    "    \n",
    "    for i in np.linspace(.05, .35, 3):\n",
    "        for j in [.15, .5, .9]:\n",
    "            for k in np.linspace(.7, 5, 3):\n",
    "                for v in np.linspace(0.0, 0.7, 3):\n",
    "                    t_range.append(i)\n",
    "                    w_range.append(j)\n",
    "                    g1_range.append(argThick(k))\n",
    "                    g2_range.append(argThick(k))\n",
    "                    v1_range.append(v)\n",
    "                    v2_range.append(v)\n",
    "    \n",
    "    samples['Insulation Thickness'] = t_range\n",
    "    samples['Window to Wall Ratio'] = w_range\n",
    "    samples['Argon1'] = g1_range\n",
    "    samples['Argon2'] = g2_range\n",
    "    samples['Visibility1'] = v1_range\n",
    "    samples['Visibility2'] = v2_range\n",
    "    \n",
    "    # Set the evaluator\n",
    "    evaluator = EvaluatorEP(\n",
    "        problem, \n",
    "        building,\n",
    "        '../model/epw/RUS_Moscow.276120_IWEC.epw',\n",
    "        out_dir='outputdir', \n",
    "        err_dir='errdir',\n",
    "    )\n",
    "\n",
    "    print('Performing evaluation...')\n",
    "    outputs = evaluator.df_apply(samples, keep_input=True)\n",
    "    \n",
    "    break"
   ]
  },
  {
   "cell_type": "markdown",
   "metadata": {},
   "source": [
    "Compute the correlation and perform the Heatmap"
   ]
  },
  {
   "cell_type": "code",
   "execution_count": 5,
   "metadata": {},
   "outputs": [
    {
     "data": {
      "image/png": "[encoded data removed]",
      "text/plain": [
       "<Figure size 576x576 with 2 Axes>"
      ]
     },
     "metadata": {
      "needs_background": "light"
     },
     "output_type": "display_data"
    }
   ],
   "source": [
    "fig=plt.figure(figsize=(8, 8))\n",
    "outputs2 = outputs.drop(columns=['Argon1', 'Visibility1']).rename(columns={\n",
    "    'Visibility2':'Solar Visibility\\nat Normal Incidence',\n",
    "    'Argon2':'Ar Filled\\nArea',\n",
    "    'Window to Wall Ratio':'WWR',\n",
    "    'Insulation Thickness':'Insulation\\nThickness',\n",
    "    'DistrictCooling:Facility':'Cooling\\nConsumption',\n",
    "    'DistrictHeating:Facility':'Heating\\nConsumption',\n",
    "    'InteriorLights:Electricity':'Lighting\\nConsumption'\n",
    "})\n",
    "temp = temp = outputs2.corr()\n",
    "temp = temp.drop(columns=['Cooling\\nConsumption','Heating\\nConsumption','Lighting\\nConsumption'])\n",
    "temp = temp.drop(['Ar Filled\\nArea', 'Insulation\\nThickness', 'WWR', 'Solar Visibility\\nat Normal Incidence'])\n",
    "cmap = LinearSegmentedColormap.from_list(\n",
    "    name='hm',\n",
    "    colors=['lightgreen','white','salmon']\n",
    ")\n",
    "mask = np.zeros_like(temp, dtype=np.bool)\n",
    "mask[np.triu_indices_from(mask)] = True\n",
    "with sns.axes_style(\"white\"):\n",
    "    ax = sns.heatmap(\n",
    "        temp, \n",
    "        annot=True, \n",
    "        fmt='.2f', \n",
    "        cmap='coolwarm',\n",
    "        #cmap = cmap,\n",
    "        square=True, \n",
    "        linewidths=.5, \n",
    "        annot_kws={\"size\": 10}, \n",
    "        cbar_kws={\"shrink\": .8},\n",
    "        vmin=-1,\n",
    "        vmax=1\n",
    "    )\n",
    "    ax.set_ylim(3, 0, .5)\n",
    "    plt.yticks(rotation=0) \n",
    "    plt.savefig('../fig/heatmap.png', transparent=True)"
   ]
  }
 ],
 "metadata": {
  "kernelspec": {
   "display_name": "Python 3",
   "language": "python",
   "name": "python3"
  },
  "language_info": {
   "codemirror_mode": {
    "name": "ipython",
    "version": 3
   },
   "file_extension": ".py",
   "mimetype": "text/x-python",
   "name": "python",
   "nbconvert_exporter": "python",
   "pygments_lexer": "ipython3",
   "version": "3.7.3"
  }
 },
 "nbformat": 4,
 "nbformat_minor": 2
}
